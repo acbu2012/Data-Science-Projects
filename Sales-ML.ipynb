{
 "cells": [
  {
   "cell_type": "code",
   "execution_count": 5,
   "id": "79992229",
   "metadata": {},
   "outputs": [],
   "source": [
    "import numpy as np\n",
    "import pandas as pd\n",
    "\n",
    "from sklearn.model_selection import train_test_split\n",
    "from sklearn.preprocessing import StandardScaler\n",
    "from sklearn.metrics import r2_score\n",
    "\n"
   ]
  },
  {
   "cell_type": "code",
   "execution_count": 6,
   "id": "73a22736",
   "metadata": {},
   "outputs": [
    {
     "name": "stdout",
     "output_type": "stream",
     "text": [
      "<class 'pandas.core.frame.DataFrame'>\n",
      "RangeIndex: 9800 entries, 0 to 9799\n",
      "Data columns (total 18 columns):\n",
      " #   Column         Non-Null Count  Dtype  \n",
      "---  ------         --------------  -----  \n",
      " 0   Row ID         9800 non-null   int64  \n",
      " 1   Order ID       9800 non-null   object \n",
      " 2   Order Date     9800 non-null   object \n",
      " 3   Ship Date      9800 non-null   object \n",
      " 4   Ship Mode      9800 non-null   object \n",
      " 5   Customer ID    9800 non-null   object \n",
      " 6   Customer Name  9800 non-null   object \n",
      " 7   Segment        9800 non-null   object \n",
      " 8   Country        9800 non-null   object \n",
      " 9   City           9800 non-null   object \n",
      " 10  State          9800 non-null   object \n",
      " 11  Postal Code    9789 non-null   float64\n",
      " 12  Region         9800 non-null   object \n",
      " 13  Product ID     9800 non-null   object \n",
      " 14  Category       9800 non-null   object \n",
      " 15  Sub-Category   9800 non-null   object \n",
      " 16  Product Name   9800 non-null   object \n",
      " 17  Sales          9800 non-null   float64\n",
      "dtypes: float64(2), int64(1), object(15)\n",
      "memory usage: 1.3+ MB\n"
     ]
    }
   ],
   "source": [
    "data = pd.read_csv('C:/MLprojects/Superstore sales prediction/train.csv')\n",
    "data.info()"
   ]
  },
  {
   "cell_type": "code",
   "execution_count": 10,
   "id": "1c296821",
   "metadata": {},
   "outputs": [
    {
     "data": {
      "text/plain": [
       "(6860, 3102)"
      ]
     },
     "execution_count": 10,
     "metadata": {},
     "output_type": "execute_result"
    }
   ],
   "source": [
    "#Preprocessing\n",
    "def encode_dates(df,column):\n",
    "    df= df.copy()\n",
    "    df[column]=pd.to_datetime(df[column])\n",
    "    df[column +'_year']=df[column].apply(lambda x:x.year)\n",
    "    df[column +'_month']=df[column].apply(lambda x:x.month)\n",
    "    df[column +'_day']=df[column].apply(lambda x:x.day)\n",
    "    df=df.drop(column, axis=1)\n",
    "    return df\n",
    "\n",
    "\n",
    "def onehot_encode(df,column):\n",
    "    df=df.copy()\n",
    "    dummies=pd.get_dummies(df[column], prefix=column)\n",
    "    df=pd.concat([df,dummies], axis=1)\n",
    "    df=df.drop(column, axis=1)\n",
    "    return df\n",
    "\n",
    "def preprocess_inputs(df):\n",
    "    df=df.copy()\n",
    "    # drop the unncecessary columns, axis=1 is column axis\n",
    "    df=df.drop(['Row ID','Country', 'Customer Name', 'Product Name'], axis=1)\n",
    "    \n",
    "    #drop cusotmer specific feature columns\n",
    "    df=df.drop(['Order ID', 'Customer ID'], axis=1)\n",
    "    \n",
    "    #extract date features\n",
    "    df=encode_dates(df,column='Order Date')\n",
    "    df=encode_dates(df,column='Ship Date')\n",
    "    \n",
    "    #one-hot encode categorical features\n",
    "    for column in ['Ship Mode','Segment','City','State','Postal Code','Region','Product ID','Category','Sub-Category']:\n",
    "        df = onehot_encode(df, column=column)\n",
    "        \n",
    "    #split df into x and y\n",
    "    y=df['Sales']\n",
    "    X=df.drop('Sales', axis=1)\n",
    "    \n",
    "    #Train-test split\n",
    "    X_train, X_test, y_train, y_test=train_test_split(X,y,train_size=0.7,shuffle=True,random_state=1)\n",
    "    \n",
    "    \n",
    "    #scale the data\n",
    "    scaler=StandardScaler()\n",
    "    scaler.fit(X_train)\n",
    "   # X_train=scaler.transform(X_train)\n",
    "   # X_test=scaler.transform(X_test)\n",
    "    X_train=pd.DataFrame(scaler.transform(X_train),columns=X.columns)\n",
    "    X_test=pd.DataFrame(scaler.transform(X_test), columns=X.columns)\n",
    "    \n",
    "    \n",
    "    return X_train, X_test, y_train, y_test\n",
    "\n",
    "X_train, X_test, y_train, y_test=preprocess_inputs(data)\n",
    "\n",
    "X_train\n",
    "\n",
    "y_train\n",
    "\n",
    "#scale the data\n",
    "X_train.describe()\n",
    "X_train.shape\n",
    "\n"
   ]
  },
  {
   "cell_type": "code",
   "execution_count": 28,
   "id": "204570eb",
   "metadata": {},
   "outputs": [
    {
     "name": "stdout",
     "output_type": "stream",
     "text": [
      "Model: \"functional_5\"\n",
      "_________________________________________________________________\n",
      "Layer (type)                 Output Shape              Param #   \n",
      "=================================================================\n",
      "input_4 (InputLayer)         [(None, 3102)]            0         \n",
      "_________________________________________________________________\n",
      "dense_8 (Dense)              (None, 256)               794368    \n",
      "_________________________________________________________________\n",
      "dense_9 (Dense)              (None, 256)               65792     \n",
      "_________________________________________________________________\n",
      "dense_10 (Dense)             (None, 1)                 257       \n",
      "=================================================================\n",
      "Total params: 860,417\n",
      "Trainable params: 860,417\n",
      "Non-trainable params: 0\n",
      "_________________________________________________________________\n",
      "None\n"
     ]
    }
   ],
   "source": [
    "\n",
    "#Training (Two hidden layer NN)\n",
    "import tensorflow as tf\n",
    "import keras\n",
    "inputs= tf.keras.Input(shape=(X_train.shape[1],))\n",
    "x = tf.keras.layers.Dense(256, activation='relu')(inputs)\n",
    "x = tf.keras.layers.Dense(256, activation='relu')(x)\n",
    "outputs = tf.keras.layers.Dense(1, activation='linear')(x)\n",
    "\n",
    "model =  tf.keras.Model(inputs=inputs, outputs=outputs)\n",
    "print(model.summary())"
   ]
  },
  {
   "cell_type": "code",
   "execution_count": null,
   "id": "1e44275e",
   "metadata": {},
   "outputs": [],
   "source": [
    "#COmpile model\n",
    "\n",
    "model.compile(optimizer='adam', loss='mse')\n",
    "history = model.fit(X_train,y_train, validation_split=0.2, batch_size=32, epochs=100,\n",
    "                   callbacks=[tf.keras.callbacks.EarlyStopping(monitor='val_loss',patience=5,restore_best_weights=True),\n",
    "                             tf.keras.callbacks.ReduceLROnPlateau()])"
   ]
  },
  {
   "cell_type": "code",
   "execution_count": 22,
   "id": "cca77210",
   "metadata": {},
   "outputs": [
    {
     "name": "stdout",
     "output_type": "stream",
     "text": [
      "Test Loss: 213196.21875\n"
     ]
    }
   ],
   "source": [
    "#Results\n",
    "test_loss = model.evaluate(X_test, y_test,verbose=0)\n",
    "print (\"Test Loss: {:0.5f}\".format(test_loss))"
   ]
  },
  {
   "cell_type": "code",
   "execution_count": 26,
   "id": "10259682",
   "metadata": {},
   "outputs": [
    {
     "name": "stdout",
     "output_type": "stream",
     "text": [
      "Test R^2 Score: 0.26376\n"
     ]
    }
   ],
   "source": [
    "y_pred = np.squeeze(model.predict(X_test))\n",
    "test_r2=r2_score(y_test, y_pred)\n",
    "\n",
    "print(\"Test R^2 Score: {:0.5f}\".format(test_r2))"
   ]
  },
  {
   "cell_type": "code",
   "execution_count": null,
   "id": "7cf2be3a",
   "metadata": {},
   "outputs": [],
   "source": [
    "# rscore should be close change the epoch to 256 instead of 128"
   ]
  }
 ],
 "metadata": {
  "kernelspec": {
   "display_name": "Python 3",
   "language": "python",
   "name": "python3"
  },
  "language_info": {
   "codemirror_mode": {
    "name": "ipython",
    "version": 3
   },
   "file_extension": ".py",
   "mimetype": "text/x-python",
   "name": "python",
   "nbconvert_exporter": "python",
   "pygments_lexer": "ipython3",
   "version": "3.8.10"
  }
 },
 "nbformat": 4,
 "nbformat_minor": 5
}
